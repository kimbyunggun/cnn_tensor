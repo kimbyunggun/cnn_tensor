{
 "cells": [
  {
   "cell_type": "markdown",
   "metadata": {},
   "source": [
    "# LeNet-5"
   ]
  },
  {
   "cell_type": "code",
   "execution_count": 3,
   "metadata": {},
   "outputs": [
    {
     "name": "stderr",
     "output_type": "stream",
     "text": [
      "/home/shin/anaconda3/lib/python3.6/site-packages/h5py/__init__.py:36: FutureWarning: Conversion of the second argument of issubdtype from `float` to `np.floating` is deprecated. In future, it will be treated as `np.float64 == np.dtype(float).type`.\n",
      "  from ._conv import register_converters as _register_converters\n"
     ]
    }
   ],
   "source": [
    "# 파이썬 2와 파이썬 3 지원\n",
    "from __future__ import division, print_function, unicode_literals\n",
    "\n",
    "# 공통\n",
    "import numpy as np\n",
    "import os\n",
    "\n",
    "# 일관된 출력을 위해 유사난수 초기화\n",
    "def reset_graph(seed=42):\n",
    "    tf.reset_default_graph()\n",
    "    tf.set_random_seed(seed)\n",
    "    np.random.seed(seed)\n",
    "\n",
    "# 맷플롯립 설정\n",
    "%matplotlib inline\n",
    "import matplotlib\n",
    "import matplotlib.pyplot as plt\n",
    "plt.rcParams['axes.labelsize'] = 14\n",
    "plt.rcParams['xtick.labelsize'] = 12\n",
    "plt.rcParams['ytick.labelsize'] = 12\n",
    "\n",
    "# 한글출력\n",
    "plt.rcParams['font.family'] = 'NanumBarunGothic'\n",
    "plt.rcParams['axes.unicode_minus'] = False\n",
    "\n",
    "# 그림을 저장할 폴더\n",
    "PROJECT_ROOT_DIR = \".\"\n",
    "CHAPTER_ID = \"cnn\"\n",
    "\n",
    "def save_fig(fig_id, tight_layout=True):\n",
    "    path = os.path.join(PROJECT_ROOT_DIR, \"images\", CHAPTER_ID, fig_id + \".png\")\n",
    "    if tight_layout:\n",
    "        plt.tight_layout()\n",
    "    plt.savefig(path, format='png', dpi=300)\n",
    "    \n",
    "import tensorflow as tf\n",
    "import numpy as np"
   ]
  },
  {
   "cell_type": "code",
   "execution_count": 4,
   "metadata": {},
   "outputs": [
    {
     "name": "stdout",
     "output_type": "stream",
     "text": [
      "(45000,)\n",
      "(45000, 3072)\n"
     ]
    }
   ],
   "source": [
    "(X_train, y_train), (X_test, y_test) = tf.keras.datasets.cifar10.load_data()\n",
    "X_train = X_train.astype(np.float32).reshape(-1, 32*32*3) / 255.0\n",
    "X_test = X_test.astype(np.float32).reshape(-1, 32*32*3) / 255.0\n",
    "y_train = y_train.astype(np.int32).reshape(-1)\n",
    "y_test = y_test.astype(np.int32).reshape(-1)\n",
    "X_valid, X_train = X_train[:5000], X_train[5000:]\n",
    "y_valid, y_train = y_train[:5000], y_train[5000:]\n",
    "m,n = X_train.shape\n",
    "print(y_train.shape)\n",
    "print(X_train.shape)"
   ]
  },
  {
   "cell_type": "code",
   "execution_count": 5,
   "metadata": {},
   "outputs": [],
   "source": [
    "def fetch_batch(epoch, batch_index, batch_size):\n",
    "    np.random.seed(epoch * n_batches + batch_index)  \n",
    "    indices = np.random.randint(m, size=batch_size)\n",
    "    X_batch = X_train[indices]\n",
    "    y_batch = y_train[indices] \n",
    "    return X_batch, y_batch"
   ]
  },
  {
   "cell_type": "markdown",
   "metadata": {},
   "source": [
    "# Leaky_Relu 사용하기"
   ]
  },
  {
   "cell_type": "code",
   "execution_count": 10,
   "metadata": {},
   "outputs": [],
   "source": [
    "def leaky_relu(z, name=None):\n",
    "    return tf.maximum(0.01 * z, z, name=name)"
   ]
  },
  {
   "cell_type": "code",
   "execution_count": 8,
   "metadata": {},
   "outputs": [
    {
     "data": {
      "image/png": "[encoded data removed]",
      "text/plain": [
       "<Figure size 432x288 with 1 Axes>"
      ]
     },
     "metadata": {},
     "output_type": "display_data"
    }
   ],
   "source": [
    "z = np.linspace(-5, 5, 200)\n",
    "\n",
    "plt.plot(z, leaky_relu(z, 0.05), \"b-\", linewidth=2)\n",
    "plt.plot([-5, 5], [0, 0], 'k-')\n",
    "plt.plot([0, 0], [-0.5, 4.2], 'k-')\n",
    "plt.grid(True)\n",
    "props = dict(facecolor='black', shrink=0.1)\n",
    "plt.annotate('pass', xytext=(-3.5, 0.5), xy=(-5, -0.2), arrowprops=props, fontsize=14, ha=\"center\")\n",
    "plt.title(\"Leaky ReLU \", fontsize=14)\n",
    "plt.axis([-5, 5, -0.5, 4.2])\n",
    "\n",
    "plt.show()"
   ]
  },
  {
   "cell_type": "markdown",
   "metadata": {},
   "source": [
    "죽는 Relu값의 그레디언트를 살리기 위한 방법 "
   ]
  },
  {
   "cell_type": "markdown",
   "metadata": {},
   "source": [
    "# ELU "
   ]
  },
  {
   "cell_type": "code",
   "execution_count": 17,
   "metadata": {},
   "outputs": [],
   "source": [
    "def elu(z, alpha=1):\n",
    "    return np.where(z < 0, alpha * (np.exp(z) - 1), z)"
   ]
  },
  {
   "cell_type": "code",
   "execution_count": 19,
   "metadata": {
    "scrolled": true
   },
   "outputs": [
    {
     "data": {
      "image/png": "[encoded data removed]",
      "text/plain": [
       "<Figure size 432x288 with 1 Axes>"
      ]
     },
     "metadata": {},
     "output_type": "display_data"
    }
   ],
   "source": [
    "plt.plot(z, elu(z), \"b-\", linewidth=2)\n",
    "plt.plot([-5, 5], [0, 0], 'k-')\n",
    "plt.plot([-5, 5], [-1, -1], 'k--')\n",
    "plt.plot([0, 0], [-2.2, 3.2], 'k-')\n",
    "plt.grid(True)\n",
    "plt.title(r\"ELU ($\\alpha=1$)\", fontsize=14)\n",
    "plt.axis([-5, 5, -2.2, 3.2])\n",
    "\n",
    "plt.show()"
   ]
  },
  {
   "cell_type": "markdown",
   "metadata": {},
   "source": [
    "tf.nn.elu사용"
   ]
  },
  {
   "cell_type": "markdown",
   "metadata": {},
   "source": [
    "# SELU"
   ]
  },
  {
   "cell_type": "markdown",
   "metadata": {},
   "source": [
    "이 활성화 함수는 Günter Klambauer, Thomas Unterthiner, Andreas Mayr가 2017년에 쓴 [논문](https://arxiv.org/pdf/1706.02515.pdf)에서 소개되었습니다. 심층 신경망에서 다른 활성화 함수보다 뛰어난 성능을 내므로 꼭 이 함수를 시도해봐야 합니다."
   ]
  },
  {
   "cell_type": "code",
   "execution_count": 29,
   "metadata": {},
   "outputs": [],
   "source": [
    "def selu(z,\n",
    "         scale=1.0507009873554804934193349852946,\n",
    "         alpha=1.6732632423543772848170429916717):\n",
    "    return scale * elu(z, alpha)"
   ]
  },
  {
   "cell_type": "code",
   "execution_count": 31,
   "metadata": {},
   "outputs": [
    {
     "data": {
      "image/png": "[encoded data removed]",
      "text/plain": [
       "<Figure size 432x288 with 1 Axes>"
      ]
     },
     "metadata": {},
     "output_type": "display_data"
    }
   ],
   "source": [
    "plt.plot(z, selu(z), \"b-\", linewidth=2)\n",
    "plt.plot([-5, 5], [0, 0], 'k-')\n",
    "plt.plot([-5, 5], [-1.758, -1.758], 'k--')\n",
    "plt.plot([0, 0], [-2.2, 3.2], 'k-')\n",
    "plt.grid(True)\n",
    "plt.title(r\"SELU\", fontsize=14)\n",
    "plt.axis([-5, 5, -2.2, 3.2])\n",
    "\n",
    "plt.show()"
   ]
  },
  {
   "cell_type": "markdown",
   "metadata": {},
   "source": [
    "이 활성화 함수를 사용하면 100층으로 된 심층 신경망도 그래디언트 소실/폭주 문제없이 모든 층에서 대략 평균이 0이고 표준 편차가 1을 유지합니다:"
   ]
  },
  {
   "cell_type": "markdown",
   "metadata": {},
   "source": [
    "tf.nn.selu 사용"
   ]
  },
  {
   "cell_type": "code",
   "execution_count": 32,
   "metadata": {},
   "outputs": [],
   "source": [
    "import tensorflow as tf\n",
    "import numpy as np\n",
    "\n",
    "height = 32\n",
    "width = 32\n",
    "channels = 3\n",
    "n_inputs = height * width * 3\n",
    "\n",
    "conv1_fmaps = 5\n",
    "conv1_ksize = 5\n",
    "conv1_stride = 1\n",
    "conv1_pad = \"VALID\"\n",
    "\n",
    "pool2_fmap = conv1_fmaps\n",
    "\n",
    "conv3_fmaps = 16\n",
    "conv3_ksize = 5\n",
    "conv3_stride = 1\n",
    "conv3_pad = \"VALID\"\n",
    "\n",
    "pool4_fmap = conv3_fmaps\n",
    "\n",
    "conv5_fmaps = 32\n",
    "conv5_ksize = 5\n",
    "conv5_stride = 1\n",
    "conv5_pad = \"VALID\"\n",
    "\n",
    "\n",
    "n_fc1 = 84\n",
    "n_outputs = 10\n",
    "\n",
    "reset_graph()\n",
    "\n",
    "with tf.name_scope(\"inputs\"):\n",
    "    X = tf.placeholder(tf.float32, shape=[None, n_inputs], name=\"X\")\n",
    "    X_reshaped = tf.reshape(X, shape=[-1, height, width, channels])\n",
    "    y = tf.placeholder(tf.int32, shape=[None], name=\"y\")\n",
    "\n",
    "with tf.name_scope(\"conv1\"):\n",
    "    conv1 = tf.layers.conv2d(X_reshaped, filters=conv1_fmaps, kernel_size=conv1_ksize,\n",
    "                         strides=conv1_stride, padding=conv1_pad,\n",
    "                         activation=tf.nn.selu, name=\"conv1\")\n",
    "\n",
    "with tf.name_scope(\"pool2\"):\n",
    "    pool2 = tf.nn.max_pool(conv1, ksize=[1,2,2,1], strides=[1,2,2,1], padding=\"VALID\")\n",
    "\n",
    "with tf.name_scope(\"conv3\"):\n",
    "    conv3 = tf.layers.conv2d(pool2, filters=conv3_fmaps, kernel_size=conv3_ksize,\n",
    "                         strides=conv3_stride, padding=conv3_pad,\n",
    "                         activation=tf.nn.selu, name=\"conv3\")\n",
    "\n",
    "with tf.name_scope(\"pool4\"):\n",
    "    pool4 = tf.nn.max_pool(conv3, ksize=[1, 2, 2, 1], strides=[1, 2, 2, 1], padding=\"VALID\")\n",
    "    \n",
    "with tf.name_scope(\"conv5\"):\n",
    "    conv5 = tf.layers.conv2d(pool4, filters=conv5_fmaps, kernel_size=conv5_ksize,\n",
    "                            strides=conv5_stride, padding=conv5_pad,\n",
    "                            activation=tf.nn.selu, name=\"conv5\")\n",
    "with tf.name_scope(\"pool_flat\"):\n",
    "    pool_flat = tf.reshape(conv5, shape=[-1, conv5_fmaps*1])\n",
    "\n",
    "with tf.name_scope(\"fc1\"):\n",
    "    fc1 = tf.layers.dense(pool_flat, n_fc1, activation=tf.nn.selu, name=\"fc1\")\n",
    "\n",
    "with tf.name_scope(\"output\"):\n",
    "    logits = tf.layers.dense(fc1, n_outputs, name=\"output\")\n",
    "    Y_proba = tf.nn.softmax(logits, name=\"Y_proba\")\n",
    "\n",
    "with tf.name_scope(\"train\"):\n",
    "    xentropy = tf.nn.sparse_softmax_cross_entropy_with_logits(logits=logits, labels=y)\n",
    "    loss = tf.reduce_mean(xentropy)\n",
    "    optimizer = tf.train.AdamOptimizer()\n",
    "    training_op = optimizer.minimize(loss)\n",
    "\n",
    "with tf.name_scope(\"eval\"):\n",
    "    correct = tf.nn.in_top_k(logits, y, 1)\n",
    "    accuracy = tf.reduce_mean(tf.cast(correct, tf.float32))\n",
    "\n",
    "with tf.name_scope(\"init_and_save\"):\n",
    "    init = tf.global_variables_initializer()\n",
    "    saver = tf.train.Saver()"
   ]
  },
  {
   "cell_type": "code",
   "execution_count": 34,
   "metadata": {},
   "outputs": [],
   "source": [
    "from datetime import datetime\n",
    "\n",
    "now = datetime.utcnow().strftime(\"%Y%m%d%H%M%S\")\n",
    "root_logdir = \"tf_logs\"\n",
    "logdir = \"{}/run-{}/\".format(root_logdir, now)"
   ]
  },
  {
   "cell_type": "code",
   "execution_count": 35,
   "metadata": {},
   "outputs": [],
   "source": [
    "mse_summary = tf.summary.scalar('accuracy', loss)\n",
    "file_writer = tf.summary.FileWriter(logdir, tf.get_default_graph())"
   ]
  },
  {
   "cell_type": "code",
   "execution_count": 36,
   "metadata": {},
   "outputs": [],
   "source": [
    "config = tf.ConfigProto()\n",
    "config.gpu_options.allow_growth = True"
   ]
  },
  {
   "cell_type": "code",
   "execution_count": 37,
   "metadata": {},
   "outputs": [
    {
     "name": "stdout",
     "output_type": "stream",
     "text": [
      "0 배치 데이터 정확도: 0.53 검증 세트 정확도: 0.4896\n",
      "1 배치 데이터 정확도: 0.6 검증 세트 정확도: 0.5204\n",
      "2 배치 데이터 정확도: 0.57 검증 세트 정확도: 0.5404\n",
      "3 배치 데이터 정확도: 0.58 검증 세트 정확도: 0.553\n",
      "4 배치 데이터 정확도: 0.55 검증 세트 정확도: 0.5704\n",
      "5 배치 데이터 정확도: 0.59 검증 세트 정확도: 0.5698\n",
      "6 배치 데이터 정확도: 0.58 검증 세트 정확도: 0.572\n",
      "7 배치 데이터 정확도: 0.64 검증 세트 정확도: 0.5868\n",
      "8 배치 데이터 정확도: 0.56 검증 세트 정확도: 0.588\n",
      "9 배치 데이터 정확도: 0.59 검증 세트 정확도: 0.59\n",
      "10 배치 데이터 정확도: 0.63 검증 세트 정확도: 0.59\n",
      "11 배치 데이터 정확도: 0.7 검증 세트 정확도: 0.5954\n",
      "12 배치 데이터 정확도: 0.6 검증 세트 정확도: 0.602\n",
      "13 배치 데이터 정확도: 0.56 검증 세트 정확도: 0.6012\n",
      "14 배치 데이터 정확도: 0.65 검증 세트 정확도: 0.6\n",
      "15 배치 데이터 정확도: 0.7 검증 세트 정확도: 0.5976\n",
      "16 배치 데이터 정확도: 0.63 검증 세트 정확도: 0.6154\n",
      "17 배치 데이터 정확도: 0.68 검증 세트 정확도: 0.6166\n",
      "18 배치 데이터 정확도: 0.68 검증 세트 정확도: 0.607\n",
      "19 배치 데이터 정확도: 0.71 검증 세트 정확도: 0.615\n",
      "20 배치 데이터 정확도: 0.72 검증 세트 정확도: 0.6182\n",
      "21 배치 데이터 정확도: 0.72 검증 세트 정확도: 0.6212\n",
      "22 배치 데이터 정확도: 0.69 검증 세트 정확도: 0.6196\n",
      "23 배치 데이터 정확도: 0.68 검증 세트 정확도: 0.6216\n",
      "24 배치 데이터 정확도: 0.69 검증 세트 정확도: 0.6172\n",
      "25 배치 데이터 정확도: 0.73 검증 세트 정확도: 0.6206\n",
      "26 배치 데이터 정확도: 0.7 검증 세트 정확도: 0.6178\n",
      "27 배치 데이터 정확도: 0.74 검증 세트 정확도: 0.624\n",
      "28 배치 데이터 정확도: 0.63 검증 세트 정확도: 0.6236\n",
      "29 배치 데이터 정확도: 0.7 검증 세트 정확도: 0.6152\n",
      "30 배치 데이터 정확도: 0.7 검증 세트 정확도: 0.6222\n",
      "31 배치 데이터 정확도: 0.66 검증 세트 정확도: 0.622\n",
      "32 배치 데이터 정확도: 0.77 검증 세트 정확도: 0.6234\n",
      "33 배치 데이터 정확도: 0.67 검증 세트 정확도: 0.6222\n",
      "34 배치 데이터 정확도: 0.73 검증 세트 정확도: 0.6156\n",
      "35 배치 데이터 정확도: 0.78 검증 세트 정확도: 0.6254\n",
      "36 배치 데이터 정확도: 0.7 검증 세트 정확도: 0.6214\n",
      "37 배치 데이터 정확도: 0.76 검증 세트 정확도: 0.6216\n",
      "38 배치 데이터 정확도: 0.73 검증 세트 정확도: 0.6204\n",
      "39 배치 데이터 정확도: 0.78 검증 세트 정확도: 0.6154\n",
      "40 배치 데이터 정확도: 0.72 검증 세트 정확도: 0.6124\n",
      "41 배치 데이터 정확도: 0.73 검증 세트 정확도: 0.6208\n",
      "42 배치 데이터 정확도: 0.75 검증 세트 정확도: 0.616\n",
      "43 배치 데이터 정확도: 0.78 검증 세트 정확도: 0.6222\n",
      "44 배치 데이터 정확도: 0.76 검증 세트 정확도: 0.6214\n",
      "45 배치 데이터 정확도: 0.76 검증 세트 정확도: 0.6208\n",
      "46 배치 데이터 정확도: 0.8 검증 세트 정확도: 0.6244\n",
      "47 배치 데이터 정확도: 0.82 검증 세트 정확도: 0.6226\n",
      "48 배치 데이터 정확도: 0.75 검증 세트 정확도: 0.6192\n",
      "49 배치 데이터 정확도: 0.68 검증 세트 정확도: 0.6196\n",
      "테스트 세트에서 최종 정확도: 0.6213\n"
     ]
    }
   ],
   "source": [
    "n_epochs = 50\n",
    "batch_size = 100\n",
    "n_batches = int(np.ceil(m / batch_size))\n",
    "\n",
    "with tf.Session(config=config) as sess:\n",
    "    init.run()\n",
    "    for epoch in range(n_epochs):\n",
    "#         for X_batch, y_batch in shuffle_batch(X_train, y_train, batch_size):\n",
    "#             sess.run(training_op, feed_dict={X: X_batch, y: y_batch})\n",
    "        for batch_index in range(n_batches):\n",
    "            X_batch, y_batch = fetch_batch(epoch, batch_index, batch_size)\n",
    "            if batch_index % 10 == 0:\n",
    "                summary_str = mse_summary.eval(feed_dict={X: X_batch, y: y_batch})\n",
    "                step = epoch * n_batches + batch_index\n",
    "                file_writer.add_summary(summary_str, step)\n",
    "            sess.run(training_op, feed_dict={X: X_batch, y: y_batch})\n",
    "        acc_batch = accuracy.eval(feed_dict={X: X_batch, y: y_batch})\n",
    "        acc_val = accuracy.eval(feed_dict={X: X_valid, y: y_valid})\n",
    "        print(epoch, \"배치 데이터 정확도:\", acc_batch, \"검증 세트 정확도:\", acc_val)\n",
    "\n",
    "    acc_test = accuracy.eval(feed_dict={X: X_test,\n",
    "                                        y: y_test})\n",
    "    print(\"테스트 세트에서 최종 정확도:\", acc_test)\n",
    "        \n",
    "    save_path = saver.save(sess, \"./my_mnist_model\")\n",
    "    \n",
    "    file_writer.close()"
   ]
  },
  {
   "cell_type": "markdown",
   "metadata": {},
   "source": [
    "결과\n",
    "\n",
    "- LeakyReLU 보다는 ELU "
   ]
  }
 ],
 "metadata": {
  "kernelspec": {
   "display_name": "Python 3",
   "language": "python",
   "name": "python3"
  },
  "language_info": {
   "codemirror_mode": {
    "name": "ipython",
    "version": 3
   },
   "file_extension": ".py",
   "mimetype": "text/x-python",
   "name": "python",
   "nbconvert_exporter": "python",
   "pygments_lexer": "ipython3",
   "version": "3.6.5"
  }
 },
 "nbformat": 4,
 "nbformat_minor": 2
}
