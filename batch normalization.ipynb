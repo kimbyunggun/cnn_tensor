{
 "cells": [
  {
   "cell_type": "markdown",
   "metadata": {},
   "source": [
    "# LeNet-5"
   ]
  },
  {
   "cell_type": "code",
   "execution_count": 1,
   "metadata": {},
   "outputs": [
    {
     "name": "stderr",
     "output_type": "stream",
     "text": [
      "/home/shin/anaconda3/lib/python3.6/site-packages/h5py/__init__.py:36: FutureWarning: Conversion of the second argument of issubdtype from `float` to `np.floating` is deprecated. In future, it will be treated as `np.float64 == np.dtype(float).type`.\n",
      "  from ._conv import register_converters as _register_converters\n"
     ]
    }
   ],
   "source": [
    "# 파이썬 2와 파이썬 3 지원\n",
    "from __future__ import division, print_function, unicode_literals\n",
    "\n",
    "# 공통\n",
    "import numpy as np\n",
    "import os\n",
    "\n",
    "# 일관된 출력을 위해 유사난수 초기화\n",
    "def reset_graph(seed=42):\n",
    "    tf.reset_default_graph()\n",
    "    tf.set_random_seed(seed)\n",
    "    np.random.seed(seed)\n",
    "\n",
    "# 맷플롯립 설정\n",
    "%matplotlib inline\n",
    "import matplotlib\n",
    "import matplotlib.pyplot as plt\n",
    "plt.rcParams['axes.labelsize'] = 14\n",
    "plt.rcParams['xtick.labelsize'] = 12\n",
    "plt.rcParams['ytick.labelsize'] = 12\n",
    "\n",
    "# 한글출력\n",
    "plt.rcParams['font.family'] = 'NanumBarunGothic'\n",
    "plt.rcParams['axes.unicode_minus'] = False\n",
    "\n",
    "# 그림을 저장할 폴더\n",
    "PROJECT_ROOT_DIR = \".\"\n",
    "CHAPTER_ID = \"cnn\"\n",
    "\n",
    "def save_fig(fig_id, tight_layout=True):\n",
    "    path = os.path.join(PROJECT_ROOT_DIR, \"images\", CHAPTER_ID, fig_id + \".png\")\n",
    "    if tight_layout:\n",
    "        plt.tight_layout()\n",
    "    plt.savefig(path, format='png', dpi=300)\n",
    "    \n",
    "import tensorflow as tf\n",
    "import numpy as np"
   ]
  },
  {
   "cell_type": "code",
   "execution_count": 3,
   "metadata": {},
   "outputs": [
    {
     "name": "stdout",
     "output_type": "stream",
     "text": [
      "(45000,)\n",
      "(45000, 3072)\n"
     ]
    }
   ],
   "source": [
    "(X_train, y_train), (X_test, y_test) = tf.keras.datasets.cifar10.load_data()\n",
    "X_train = X_train.astype(np.float32).reshape(-1, 32*32*3) / 255.0\n",
    "X_test = X_test.astype(np.float32).reshape(-1, 32*32*3) / 255.0\n",
    "y_train = y_train.astype(np.int32).reshape(-1)\n",
    "y_test = y_test.astype(np.int32).reshape(-1)\n",
    "X_valid, X_train = X_train[:5000], X_train[5000:]\n",
    "y_valid, y_train = y_train[:5000], y_train[5000:]\n",
    "m,n = X_train.shape\n",
    "print(y_train.shape)\n",
    "print(X_train.shape)\n",
    "X_test = X_test[:5000]\n",
    "y_test = y_test[:5000]"
   ]
  },
  {
   "cell_type": "code",
   "execution_count": 4,
   "metadata": {},
   "outputs": [],
   "source": [
    "def shuffle_batch(X, y, batch_size):\n",
    "    rnd_idx = np.random.permutation(len(X))\n",
    "    n_batches = len(X) // batch_size\n",
    "    for batch_idx in np.array_split(rnd_idx, n_batches):\n",
    "        X_batch, y_batch = X[batch_idx], y[batch_idx]\n",
    "        yield X_batch, y_batch"
   ]
  },
  {
   "cell_type": "code",
   "execution_count": 5,
   "metadata": {},
   "outputs": [],
   "source": [
    "def fetch_batch(epoch, batch_index, batch_size):\n",
    "    np.random.seed(epoch * n_batches + batch_index)  \n",
    "    indices = np.random.randint(m, size=batch_size)\n",
    "    X_batch = X_train[indices]\n",
    "    y_batch = y_train[indices] \n",
    "    return X_batch, y_batch"
   ]
  },
  {
   "cell_type": "markdown",
   "metadata": {},
   "source": [
    "# 배치정규화"
   ]
  },
  {
   "cell_type": "markdown",
   "metadata": {},
   "source": [
    "위에서의 ELU와 HE 초기화를 사용하면 훈련 초기 단계에서 그래디언트소실이나 폭주 문제를 크게 감소시킬 수 있지만, 훈련하는 동안 다시 발생하지 않을 수 없습니다. 그렇기 때문에 그래디언트 소실 및 폭주 문제를 해결하기 위해서 배치정규화batch Normalization(BN)을 제안합니다. 이는 훈련하는 동안 이전 층의 파라미터가 변함에 따라 각 층에 들어오는 입력의 분포가 변화되는 문제입니다.(내부 공변량 변화internal Covariate Shift)\n",
    "\n",
    "이 방법은 각 층에서 활성화 함수를 통과하기전에 모델에 연산을 하나 추가합니다. 단순하게 입력데이터의 평균을 0으로 만들고 정규화한 다음, 각 층에서 두 개의 새로운 파라미터로 결과값의 스케일을 조정하고 이동시킵니다.(p.361) \n",
    "\n",
    "테스트 할 떄는 평균과 표준편차를 계산할 미니배치가 없으니 전체 훈련 세트의 평균과 표준편차를 대신 사용합니다. \n",
    "\n",
    "전체적으로 보면 배치 정규화된 층마다 스케일, 이동, 평균, 표준편차 네 개의 파라미터가 학습됩니다. 그러나 단점이라면 층마다 추가되는 계산이 신경망의 예측이 느려지게 합니다. \n"
   ]
  },
  {
   "cell_type": "markdown",
   "metadata": {},
   "source": [
    "training = tf.placeholder_with_default(False, shape=(), name = \"training\")\n",
    "\n",
    "- batch_normalization()을 할 때 처음 훈련시킬 때는 training값을 가져와 사용하지만 이후 실험데이터에서는 training값을 사용하지 않는다. 그래서 사용하는 placeholder가 이것이다. "
   ]
  },
  {
   "cell_type": "markdown",
   "metadata": {},
   "source": [
    "tf.layers.batch_normalization(x, training=training, momentum=0.9)\n",
    "\n",
    "- BN알고리즘은 지수감소를 이용해 이동평균을 계산한다. 그래서 momentum 매개변수가 필요하다.\n",
    "- 일반적인 모멘텀 값은 1에 가까운 .9, 0.99, 0.999 이다. (데이터가 크고 미니베치가 작을 경우 9를 더 넣어 1에 가깝게 한다.)"
   ]
  },
  {
   "cell_type": "code",
   "execution_count": 6,
   "metadata": {},
   "outputs": [],
   "source": [
    "import tensorflow as tf\n",
    "import numpy as np\n",
    "\n",
    "height = 32\n",
    "width = 32\n",
    "channels = 3\n",
    "n_inputs = height * width * 3\n",
    "\n",
    "conv1_fmaps = 96\n",
    "conv1_ksize = 5\n",
    "conv1_stride = 1\n",
    "conv1_pad = \"VALID\"\n",
    "\n",
    "pool2_fmap = conv1_fmaps\n",
    "\n",
    "conv3_fmaps = 128\n",
    "conv3_ksize = 5\n",
    "conv3_stride = 1\n",
    "conv3_pad = \"VALID\"\n",
    "\n",
    "pool4_fmap = conv3_fmaps\n",
    "\n",
    "conv5_fmaps = 256\n",
    "conv5_ksize = 5\n",
    "conv5_stride = 1\n",
    "conv5_pad = \"VALID\"\n",
    "\n",
    "\n",
    "n_fc1 = 84\n",
    "n_outputs = 10\n",
    "\n",
    "#training = tf.placeholder()\n",
    "\n",
    "reset_graph()\n",
    "\n",
    "with tf.name_scope(\"inputs\"):\n",
    "    X = tf.placeholder(tf.float32, shape=[None, n_inputs], name=\"X\")\n",
    "    X_reshaped = tf.reshape(X, shape=[-1, height, width, channels])\n",
    "    y = tf.placeholder(tf.int32, shape=[None], name=\"y\")\n",
    "\n",
    "#BN을 첨가시킴, act = relu\n",
    "with tf.name_scope(\"conv1\"):\n",
    "    conv1 = tf.layers.conv2d(X_reshaped, filters=conv1_fmaps, kernel_size=conv1_ksize,\n",
    "                         strides=conv1_stride, padding=conv1_pad, name=\"conv1\")\n",
    "    \n",
    "    bn1 = tf.layers.batch_normalization(conv1, training=True, momentum=0.9)\n",
    "    \n",
    "    bn1_act = tf.nn.selu(bn1)\n",
    "\n",
    "\n",
    "with tf.name_scope(\"pool2\"):\n",
    "    pool2 = tf.nn.max_pool(bn1_act, ksize=[1,2,2,1], strides=[1,2,2,1], padding=\"VALID\")\n",
    "\n",
    "with tf.name_scope(\"conv3\"):\n",
    "    conv3 = tf.layers.conv2d(pool2, filters=conv3_fmaps, kernel_size=conv3_ksize,\n",
    "                         strides=conv3_stride, padding=conv3_pad, name=\"conv3\")\n",
    "    \n",
    "    bn2 = tf.layers.batch_normalization(conv3, training=True, momentum=0.9)\n",
    "    \n",
    "    bn2_act = tf.nn.selu(bn2)\n",
    "\n",
    "with tf.name_scope(\"pool4\"):\n",
    "    pool4 = tf.nn.max_pool(bn2_act, ksize=[1, 2, 2, 1], strides=[1, 2, 2, 1], padding=\"VALID\")\n",
    "    \n",
    "with tf.name_scope(\"conv5\"):\n",
    "    conv5 = tf.layers.conv2d(pool4, filters=conv5_fmaps, kernel_size=conv5_ksize,\n",
    "                            strides=conv5_stride, padding=conv5_pad, name=\"conv5\", )\n",
    "    \n",
    "    bn3 = tf.layers.batch_normalization(conv5, training=True, momentum=0.9)\n",
    "    \n",
    "    bn3_act = tf.nn.selu(bn3)\n",
    "    \n",
    "with tf.name_scope(\"pool_flat\"):\n",
    "    pool_flat = tf.reshape(bn3_act, shape=[-1, conv5_fmaps*1])\n",
    "\n",
    "with tf.name_scope(\"fc1\"):\n",
    "    fc1 = tf.layers.dense(pool_flat, n_fc1,  name=\"fc1\")\n",
    "    \n",
    "    bn4 = tf.layers.batch_normalization(fc1, training=True, momentum=0.9)\n",
    "    \n",
    "    bn4_act = tf.nn.selu(bn4)\n",
    "\n",
    "with tf.name_scope(\"output\"):\n",
    "    logits = tf.layers.dense(bn4_act, n_outputs, name=\"output\")\n",
    "    Y_proba = tf.nn.softmax(logits, name=\"Y_proba\")\n",
    "\n",
    "with tf.name_scope(\"train\"):\n",
    "    xentropy = tf.nn.sparse_softmax_cross_entropy_with_logits(logits=logits, labels=y)\n",
    "    loss = tf.reduce_mean(xentropy)\n",
    "    optimizer = tf.train.AdamOptimizer()\n",
    "    training_op = optimizer.minimize(loss)\n",
    "\n",
    "with tf.name_scope(\"eval\"):\n",
    "    correct = tf.nn.in_top_k(logits, y, 1)\n",
    "    accuracy = tf.reduce_mean(tf.cast(correct, tf.float32))\n",
    "\n",
    "with tf.name_scope(\"init_and_save\"):\n",
    "    init = tf.global_variables_initializer()\n",
    "    saver = tf.train.Saver()"
   ]
  },
  {
   "cell_type": "code",
   "execution_count": 7,
   "metadata": {},
   "outputs": [],
   "source": [
    "from datetime import datetime\n",
    "\n",
    "now = datetime.utcnow().strftime(\"%Y%m%d%H%M%S\")\n",
    "root_logdir = \"tf_logs\"\n",
    "logdir = \"{}/run-{}/\".format(root_logdir, now)"
   ]
  },
  {
   "cell_type": "code",
   "execution_count": 8,
   "metadata": {},
   "outputs": [],
   "source": [
    "mse_summary = tf.summary.scalar('accuracy', loss)\n",
    "file_writer = tf.summary.FileWriter(logdir, tf.get_default_graph())"
   ]
  },
  {
   "cell_type": "code",
   "execution_count": 9,
   "metadata": {},
   "outputs": [],
   "source": [
    "config = tf.ConfigProto()\n",
    "config.gpu_options.allow_growth = True"
   ]
  },
  {
   "cell_type": "code",
   "execution_count": 10,
   "metadata": {},
   "outputs": [
    {
     "name": "stdout",
     "output_type": "stream",
     "text": [
      "0 배치 데이터 정확도: 0.7 검증 세트 정확도: 0.6046\n",
      "1 배치 데이터 정확도: 0.77 검증 세트 정확도: 0.643\n",
      "2 배치 데이터 정확도: 0.79 검증 세트 정확도: 0.6712\n",
      "3 배치 데이터 정확도: 0.81 검증 세트 정확도: 0.6966\n",
      "4 배치 데이터 정확도: 0.88 검증 세트 정확도: 0.6986\n",
      "5 배치 데이터 정확도: 0.82 검증 세트 정확도: 0.7002\n",
      "6 배치 데이터 정확도: 0.9 검증 세트 정확도: 0.7134\n",
      "7 배치 데이터 정확도: 0.89 검증 세트 정확도: 0.7164\n",
      "8 배치 데이터 정확도: 0.86 검증 세트 정확도: 0.7172\n",
      "9 배치 데이터 정확도: 0.95 검증 세트 정확도: 0.7094\n",
      "10 배치 데이터 정확도: 0.96 검증 세트 정확도: 0.7124\n",
      "11 배치 데이터 정확도: 0.97 검증 세트 정확도: 0.7106\n",
      "12 배치 데이터 정확도: 0.99 검증 세트 정확도: 0.71\n",
      "13 배치 데이터 정확도: 0.97 검증 세트 정확도: 0.7126\n",
      "14 배치 데이터 정확도: 0.99 검증 세트 정확도: 0.714\n",
      "15 배치 데이터 정확도: 1.0 검증 세트 정확도: 0.7122\n",
      "16 배치 데이터 정확도: 0.99 검증 세트 정확도: 0.7174\n",
      "17 배치 데이터 정확도: 0.95 검증 세트 정확도: 0.7042\n",
      "18 배치 데이터 정확도: 0.99 검증 세트 정확도: 0.704\n",
      "19 배치 데이터 정확도: 1.0 검증 세트 정확도: 0.7184\n",
      "테스트 세트에서 최종 정확도: 0.7188\n"
     ]
    }
   ],
   "source": [
    "n_epochs = 20\n",
    "batch_size = 100\n",
    "n_batches = int(np.ceil(m / batch_size))\n",
    "extra_update_ops = tf.get_collection(tf.GraphKeys.UPDATE_OPS)\n",
    "\n",
    "with tf.Session(config=config) as sess:\n",
    "    init.run()\n",
    "    for epoch in range(n_epochs):\n",
    "#         for X_batch, y_batch in shuffle_batch(X_train, y_train, batch_size):\n",
    "#             sess.run(training_op, feed_dict={X: X_batch, y: y_batch})\n",
    "        for batch_index in range(n_batches):\n",
    "            X_batch, y_batch = fetch_batch(epoch, batch_index, batch_size)\n",
    "            if batch_index % 10 == 0:\n",
    "                summary_str = mse_summary.eval(feed_dict={X: X_batch, y: y_batch})\n",
    "                step = epoch * n_batches + batch_index\n",
    "                file_writer.add_summary(summary_str, step)\n",
    "            sess.run([training_op, extra_update_ops], feed_dict={X: X_batch, y: y_batch})\n",
    "        acc_batch = accuracy.eval(feed_dict={X: X_batch, y: y_batch})\n",
    "        acc_val = accuracy.eval(feed_dict={X: X_valid, y: y_valid})\n",
    "        print(epoch, \"배치 데이터 정확도:\", acc_batch, \"검증 세트 정확도:\", acc_val)\n",
    "\n",
    "    acc_test = accuracy.eval(feed_dict={X: X_test,\n",
    "                                        y: y_test})\n",
    "    print(\"테스트 세트에서 최종 정확도:\", acc_test)\n",
    "        \n",
    "    save_path = saver.save(sess, \"./my_mnist_model\")\n",
    "    \n",
    "    file_writer.close()"
   ]
  },
  {
   "cell_type": "code",
   "execution_count": null,
   "metadata": {},
   "outputs": [],
   "source": []
  }
 ],
 "metadata": {
  "kernelspec": {
   "display_name": "Python 3",
   "language": "python",
   "name": "python3"
  },
  "language_info": {
   "codemirror_mode": {
    "name": "ipython",
    "version": 3
   },
   "file_extension": ".py",
   "mimetype": "text/x-python",
   "name": "python",
   "nbconvert_exporter": "python",
   "pygments_lexer": "ipython3",
   "version": "3.6.5"
  }
 },
 "nbformat": 4,
 "nbformat_minor": 2
}
